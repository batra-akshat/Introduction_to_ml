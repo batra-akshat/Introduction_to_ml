{
  "nbformat": 4,
  "nbformat_minor": 0,
  "metadata": {
    "colab": {
      "name": "Getting_started.ipynb",
      "provenance": [],
      "authorship_tag": "ABX9TyMiT9lIUK9vqzi7bXTAI7bB",
      "include_colab_link": true
    },
    "kernelspec": {
      "name": "python3",
      "display_name": "Python 3"
    },
    "language_info": {
      "name": "python"
    },
    "accelerator": "GPU"
  },
  "cells": [
    {
      "cell_type": "markdown",
      "metadata": {
        "id": "view-in-github",
        "colab_type": "text"
      },
      "source": [
        "<a href=\"https://colab.research.google.com/github/batra-akshat/Introduction_to_ml/blob/main/Getting_started.ipynb\" target=\"_parent\"><img src=\"https://colab.research.google.com/assets/colab-badge.svg\" alt=\"Open In Colab\"/></a>"
      ]
    },
    {
      "cell_type": "code",
      "metadata": {
        "colab": {
          "base_uri": "https://localhost:8080/"
        },
        "id": "frszGG3UcQfP",
        "outputId": "d7affb0f-8eb9-4822-e548-e75788def668"
      },
      "source": [
        "!pwd"
      ],
      "execution_count": 6,
      "outputs": [
        {
          "output_type": "stream",
          "name": "stdout",
          "text": [
            "/content\n"
          ]
        }
      ]
    },
    {
      "cell_type": "code",
      "metadata": {
        "colab": {
          "base_uri": "https://localhost:8080/"
        },
        "id": "Gp7CbbcjdnQm",
        "outputId": "048f4765-474c-4d6e-826f-f61a352cbf3c"
      },
      "source": [
        "from google.colab import drive \n",
        "drive.mount('/content/drive')\n"
      ],
      "execution_count": 8,
      "outputs": [
        {
          "output_type": "stream",
          "name": "stdout",
          "text": [
            "Mounted at /content/drive\n"
          ]
        }
      ]
    },
    {
      "cell_type": "code",
      "metadata": {
        "colab": {
          "base_uri": "https://localhost:8080/"
        },
        "id": "4v2dKzJtkbgo",
        "outputId": "e05c0cfc-ba1d-479c-94f7-86f2d03862ee"
      },
      "source": [
        "%cd /content/drive/My\\ Drive/\n"
      ],
      "execution_count": 9,
      "outputs": [
        {
          "output_type": "stream",
          "name": "stdout",
          "text": [
            "/content/drive/My Drive\n"
          ]
        }
      ]
    },
    {
      "cell_type": "code",
      "metadata": {
        "colab": {
          "base_uri": "https://localhost:8080/"
        },
        "id": "tIfN3Af5kfgn",
        "outputId": "bdc90f3c-f8f4-4606-b291-4656a059b035"
      },
      "source": [
        "!pwd"
      ],
      "execution_count": 10,
      "outputs": [
        {
          "output_type": "stream",
          "name": "stdout",
          "text": [
            "/content/drive/My Drive\n"
          ]
        }
      ]
    },
    {
      "cell_type": "code",
      "metadata": {
        "colab": {
          "base_uri": "https://localhost:8080/"
        },
        "id": "7lUHy3tAklfU",
        "outputId": "4876a8a5-4b11-4aed-c20a-8db230c2812f"
      },
      "source": [
        "!ls"
      ],
      "execution_count": 11,
      "outputs": [
        {
          "output_type": "stream",
          "name": "stdout",
          "text": [
            " 00000000000000000.pdf\n",
            "'Akshat Batra(2K18-IT-015).jpg'\n",
            " Akshat_Batra_CV.pdf\n",
            "'AKSHAT_BATRA_IT_015 (1).pdf'\n",
            " AKSHAT_BATRA_IT_015.pdf\n",
            " Akshat_Batra.pdf\n",
            "'AKSHAT_DTU (1).pdf'\n",
            "'AKSHAT_DTU (2).pdf'\n",
            " AKSHAT_DTU.pdf\n",
            "'Artificial Nueral Networks.pdf'\n",
            "'AXIS BANK  Statement for November  2018.pdf'\n",
            "'Books '\n",
            " ch20.gdoc\n",
            " Classroom\n",
            " CN_2K18_IT_015.pdf\n",
            " cnasssi2-converted.pdf\n",
            "'CN_REPORT 2K18_IT_015 2K18_IT_016 (1).pdf'\n",
            "'CN_REPORT 2K18_IT_015 2K18_IT_016.pdf'\n",
            "'co-327 assi1 (1).jpeg'\n",
            "'co-327 assi-1a.jpeg'\n",
            "'co-327 assi1.jpeg'\n",
            "'Colab Notebooks'\n",
            "'Copy of AI TEST.gdoc'\n",
            "'Copy of Finance.rar'\n",
            " db2c5e69444845bcbabdd6f35caa45a221_49_20.mp4\n",
            " Documents\n",
            " DTU_ASKHAT_BATRA.pdf\n",
            "'Emailing CamScanner 04-23-2020 15.33.45.pdf'\n",
            "'EXP-3 DECISION TREE (1).pdf'\n",
            "'exp-4 Cart algo (1).pdf'\n",
            "'exp-4 Cart algo.pdf'\n",
            "'_exp-5 c4.5 (2).pdf'\n",
            " Experiment-2.pdf\n",
            "'fee concession for 201819.pdf'\n",
            "'How to get started with Drive (1).pdf'\n",
            "'How to get started with Drive.pdf'\n",
            " IMG_20200725_223304_2.jpg\n",
            " Introduction_to_ml\n",
            " IPM_Sample_Paper-AT.pdf\n",
            "'mcm notice.pdf'\n",
            "'ML PP 2K18-IT-015.pdf'\n",
            "'ML PR 2K18-IT-015.pdf'\n",
            "'New doc 24 Sep 2020 15.02.pdf'\n",
            " OLDRESUME.pdf\n",
            "'papa jio.pdf'\n",
            " placement_documents.pdf\n",
            " resume-amazon-converted.docx\n",
            " resume-amazon-converted.gdoc\n",
            " resume-amazon-converted.pdf\n",
            " Resume_finalized.pdf\n",
            "'SUPPORT VECTOR MACHINE.gslides'\n",
            " surprise_2.gdoc\n",
            "'WhatsApp Image 2020-08-19 at 15.42.39.jpeg'\n"
          ]
        }
      ]
    },
    {
      "cell_type": "code",
      "metadata": {
        "id": "GRvjlZP6ktG0"
      },
      "source": [
        "!cd Introduction_to_ml\n"
      ],
      "execution_count": 14,
      "outputs": []
    },
    {
      "cell_type": "code",
      "metadata": {
        "colab": {
          "base_uri": "https://localhost:8080/"
        },
        "id": "b9vv2QXCk2EP",
        "outputId": "177ce028-2a06-4e7d-b425-3f454b141569"
      },
      "source": [
        "!pwd"
      ],
      "execution_count": 15,
      "outputs": [
        {
          "output_type": "stream",
          "name": "stdout",
          "text": [
            "/content/drive/My Drive\n"
          ]
        }
      ]
    },
    {
      "cell_type": "code",
      "metadata": {
        "colab": {
          "base_uri": "https://localhost:8080/"
        },
        "id": "NHdiIMtXk-qx",
        "outputId": "1c6e937d-8c29-44e5-a82b-b0572aecb5e3"
      },
      "source": [
        "a = 5\n",
        "print(a)"
      ],
      "execution_count": 16,
      "outputs": [
        {
          "output_type": "stream",
          "name": "stdout",
          "text": [
            "5\n"
          ]
        }
      ]
    }
  ]
}